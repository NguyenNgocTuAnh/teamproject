{
 "cells": [
  {
   "cell_type": "markdown",
   "id": "ba33fe17",
   "metadata": {},
   "source": [
    "# Title-Tic Tac Toe\n",
    "## Member_names\n",
    "### Min Myat Ngwe\n",
    "### Juyin Tang\n",
    "### Duc Minh Khang Nguyen\n",
    "### Nguyen Ngoc  Tu Anh"
   ]
  },
  {
   "cell_type": "code",
   "execution_count": 25,
   "id": "37f73805",
   "metadata": {},
   "outputs": [],
   "source": [
    "import tkinter as tk\n",
    "from tkinter import messagebox\n",
    "\n",
    "root = tk.Tk()\n",
    "root.resizable(False, False)\n",
    "root.title(\"Tic Tac Toe\")\n",
    "\n",
    "play_area = tk.Frame(root, width=300, height=300, bg='white')\n",
    "count = 0\n",
    "click = True\n",
    "\n",
    "\n",
    "\n",
    "\n",
    "\n"
   ]
  },
  {
   "cell_type": "code",
   "execution_count": null,
   "id": "07c0c9e9",
   "metadata": {},
   "outputs": [],
   "source": []
  },
  {
   "cell_type": "code",
   "execution_count": 26,
   "id": "14c822e0",
   "metadata": {},
   "outputs": [],
   "source": [
    "\n",
    "def restart():# creating restart opition and creating board\n",
    "    global click, count\n",
    "    global button1,button2,button3,button4,button5,button6,button7,button8,button9\n",
    "    click = True\n",
    "    count = 0\n",
    "    button1 = tk.Button(root, text=\" \", width=10, height=10, bg=\"white\", command=lambda: button(button1))\n",
    "    button1.grid(row=0, column=0)\n",
    "    button2 = tk.Button(root, text=\" \", width=10, height=10, bg=\"white\", command=lambda: button(button2))\n",
    "    button2.grid(row=0, column=1)\n",
    "    button3 = tk.Button(root, text=\" \", width=10, height=10, bg=\"white\", command=lambda: button(button3))\n",
    "    button3.grid(row=0, column=2)\n",
    "    button4 = tk.Button(root, text=\" \", width=10, height=10, bg=\"white\", command=lambda: button(button4))\n",
    "    button4.grid(row=1, column=0)\n",
    "    button5 = tk.Button(root, text=\" \", width=10, height=10, bg=\"white\", command=lambda: button(button5))\n",
    "    button5.grid(row=1, column=1)\n",
    "    button6 = tk.Button(root, text=\" \", width=10, height=10, bg=\"white\", command=lambda: button(button6))\n",
    "    button6.grid(row=1, column=2)\n",
    "    button7 = tk.Button(root, text=\" \", width=10, height=10, bg=\"white\", command=lambda: button(button7))\n",
    "    button7.grid(row=2, column=0)\n",
    "    button8 = tk.Button(root, text=\" \", width=10, height=10, bg=\"white\", command=lambda: button(button8))\n",
    "    button8.grid(row=2, column=1)\n",
    "    button9 = tk.Button(root, text=\" \", width=10, height=10, bg=\"white\", command=lambda: button(button9))\n",
    "    button9.grid(row=2, column=2)"
   ]
  },
  {
   "cell_type": "code",
   "execution_count": 27,
   "id": "2dcfa7c8",
   "metadata": {},
   "outputs": [],
   "source": [
    "\n",
    "def disable_button():#making all the buttons to be disable after someone wins the game or draw\n",
    "    button1.config(state=tk.DISABLED)\n",
    "    button2.config(state=tk.DISABLED)\n",
    "    button3.config(state=tk.DISABLED)\n",
    "    button4.config(state=tk.DISABLED)\n",
    "    button5.config(state=tk.DISABLED)\n",
    "    button6.config(state=tk.DISABLED)\n",
    "    button7.config(state=tk.DISABLED)\n",
    "    button8.config(state=tk.DISABLED)\n",
    "    button9.config(state=tk.DISABLED)"
   ]
  },
  {
   "cell_type": "code",
   "execution_count": 28,
   "id": "cc1c8551",
   "metadata": {},
   "outputs": [],
   "source": [
    " \n",
    "def checking_winner():#checking winner\n",
    "    if (button1[\"text\"] == 'X' and button2[\"text\"] == 'X' and button3[\"text\"] == 'X' or\n",
    "        button4[\"text\"] == 'X' and button5[\"text\"] == 'X' and button6[\"text\"] == 'X' or\n",
    "        button7[\"text\"] == 'X' and button8[\"text\"] == 'X' and button9[\"text\"] == 'X' or\n",
    "        button1[\"text\"] == 'X' and button4[\"text\"] == 'X' and button7[\"text\"] == 'X' or\n",
    "        button2[\"text\"] == 'X' and button5[\"text\"] == 'X' and button8[\"text\"] == 'X' or\n",
    "        button3[\"text\"] == 'X' and button6[\"text\"] == 'X' and button9[\"text\"] == 'X' or\n",
    "        button1[\"text\"] == 'X' and button5[\"text\"] == 'X' and button9[\"text\"] == 'X' or\n",
    "        button3[\"text\"] == 'X' and button5[\"text\"] == 'X' and button7[\"text\"] == 'X'):\n",
    "        messagebox.showinfo(\"Tic Tac Toe\", \"Player X wins!\")\n",
    "        disable_button()\n",
    "\n",
    "    elif (button1[\"text\"] == 'O' and button2[\"text\"] == 'O' and button3[\"text\"] == 'O' or\n",
    "          button4[\"text\"] == 'O' and button5[\"text\"] == 'O' and button6[\"text\"] == 'O' or\n",
    "          button7[\"text\"] == 'O' and button8[\"text\"] == 'O' and button9[\"text\"] == 'O' or\n",
    "          button1[\"text\"] == 'O' and button4[\"text\"] == 'O' and button7[\"text\"] == 'O' or\n",
    "          button2[\"text\"] == 'O' and button5[\"text\"] == 'O' and button8[\"text\"] == 'O' or\n",
    "          button3[\"text\"] == 'O' and button6[\"text\"] == 'O' and button9[\"text\"] == 'O' or\n",
    "          button1[\"text\"] == 'O' and button5[\"text\"] == 'O' and button9[\"text\"] == 'O' or\n",
    "          button3[\"text\"] == 'O' and button5[\"text\"] == 'O' and button7[\"text\"] == 'O'):\n",
    "        messagebox.showinfo(\"Tic Tac Toe\", \"Player O wins!\")\n",
    "        disable_button()\n",
    "\n",
    "    elif count == 9:\n",
    "        messagebox.showinfo(\"Tic Tac Toe\", \"It's a draw!\")\n",
    "        disable_button()"
   ]
  },
  {
   "cell_type": "code",
   "execution_count": 29,
   "id": "1b10f9aa",
   "metadata": {
    "scrolled": false
   },
   "outputs": [],
   "source": [
    "def button(b):#switching player and making the index to be the player's mark\n",
    "    global click, count\n",
    "    if b[\"text\"] == \" \" and click == True:\n",
    "        b[\"text\"] = \"X\"\n",
    "        click = False\n",
    "        count += 1\n",
    "        checking_winner()\n",
    "    elif b[\"text\"] == \" \" and click == False:\n",
    "        b[\"text\"] = 'O'\n",
    "        click = True\n",
    "        count += 1\n",
    "        checking_winner()\n",
    "    else:\n",
    "        messagebox.showerror(\"Tic Tac Toe\", \"It is already occupied\")\n",
    "\n"
   ]
  },
  {
   "cell_type": "code",
   "execution_count": 30,
   "id": "e755c741",
   "metadata": {},
   "outputs": [],
   "source": [
    "\n",
    "   \n",
    "    \n",
    "# Create a menu bar\n",
    "menu_bar = tk.Menu(root)\n",
    "root.config(menu=menu_bar)\n",
    "\n",
    "# Create an \"Options\" menu\n",
    "options_menu = tk.Menu(menu_bar, tearoff=False)\n",
    "menu_bar.add_cascade(label=\"Options\", menu=options_menu)\n",
    "\n",
    "# Add a \"Restart\" option\n",
    "options_menu.add_command(label=\"Restart\", command=restart)\n",
    "restart()\n",
    "root.mainloop()\n"
   ]
  },
  {
   "cell_type": "markdown",
   "id": "73073ad4",
   "metadata": {},
   "source": []
  },
  {
   "cell_type": "markdown",
   "id": "916e621f",
   "metadata": {},
   "source": [
    "# conclusion\n",
    "The goal of this qroject is to remember the thing that we were used to playing when we were kids.And. it is interesting to make with python.\n",
    "## finalise\n",
    "-The program will show the winner with a messagebox and there is the opition at the board where you can clik and restart the game again or you can quite by clicking the coss.\n"
   ]
  }
 ],
 "metadata": {
  "kernelspec": {
   "display_name": "Python 3 (ipykernel)",
   "language": "python",
   "name": "python3"
  },
  "language_info": {
   "codemirror_mode": {
    "name": "ipython",
    "version": 3
   },
   "file_extension": ".py",
   "mimetype": "text/x-python",
   "name": "python",
   "nbconvert_exporter": "python",
   "pygments_lexer": "ipython3",
   "version": "3.11.4"
  }
 },
 "nbformat": 4,
 "nbformat_minor": 5
}
